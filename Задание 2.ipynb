{
 "cells": [
  {
   "cell_type": "markdown",
   "source": [
    "# Задание 2"
   ],
   "metadata": {
    "collapsed": false,
    "pycharm": {
     "name": "#%% md\n"
    }
   }
  },
  {
   "cell_type": "code",
   "execution_count": 75,
   "outputs": [],
   "source": [
    "%load_ext pycodestyle_magic\n",
    "%pycodestyle_on"
   ],
   "metadata": {
    "collapsed": false,
    "pycharm": {
     "name": "#%%\n",
     "is_executing": false
    }
   }
  },
  {
   "cell_type": "code",
   "execution_count": 76,
   "outputs": [
    {
     "name": "stdout",
     "text": [
      "Wall time: 1min 40s\n"
     ],
     "output_type": "stream"
    }
   ],
   "source": [
    "%%time\n",
    "# распарсим \"Выстрел\" и запишем в json\n",
    "from pymystem3 import Mystem\n",
    "import json\n",
    "\n",
    "with open('Выстрел.txt') as f:\n",
    "    text = f.read()\n",
    "m = Mystem()\n",
    "with open('mystem_analysis.json', 'w', encoding='utf-8') as f:\n",
    "    json.dump(m.analyze(text), f, ensure_ascii=False, indent=4)"
   ],
   "metadata": {
    "collapsed": false,
    "pycharm": {
     "name": "#%%\n",
     "is_executing": false
    }
   }
  },
  {
   "cell_type": "code",
   "execution_count": 77,
   "outputs": [],
   "source": [
    "%%time\n",
    "# токенизируем текст с помощью nltk и анализируем с помощью pymorphy\n",
    "from nltk import word_tokenize\n",
    "from pymorphy2 import MorphAnalyzer\n",
    "from string import punctuation\n",
    "import re\n",
    "\n",
    "with open('Выстрел.txt') as f:\n",
    "    text = f.read()\n",
    "    text = [x.strip(punctuation).lower() for x in word_tokenize(text) if x.isalpha()]\n",
    "\n",
    "morph = MorphAnalyzer()\n",
    "pymorphy_analysis = []\n",
    "for word in text:\n",
    "    word_analysis = {}\n",
    "    ana = morph.parse(word)[0]\n",
    "    word_analysis['lemma'] = ana.normal_form\n",
    "    word_analysis['part_of_speech'] = ana.tag.POS\n",
    "    pymorphy_analysis.append(word_analysis)\n",
    "\n",
    "with open('pymorphy_analysis.json', 'w', encoding='utf-8') as f:\n",
    "    json.dump(pymorphy_analysis, f, ensure_ascii=False, indent=4)"
   ],
   "metadata": {
    "collapsed": false,
    "pycharm": {
     "name": "#%%\n",
     "is_executing": false
    }
   }
  },
  {
   "cell_type": "code",
   "execution_count": 2,
   "outputs": [
    {
     "name": "stdout",
     "text": [
      "Доля каждой части речи:\nNOUN 849\nVERB 570\nNPRO 489\nADJF 357\nPREP 354\nCONJ 301\nADVB 189\nPRCL 177\nINFN 105\nADJS 54\nGRND 41\nPRTF 36\nNUMR 32\nPRTS 18\nPRED 10\nINTJ 9\nCOMP 9\nNone 7\n\nТоп-20 глаголов:  быть, сказать, стать, знать, отвечать, продолжать, мочь, дать, иметь, сесть, ждать, встать, выйти, хотеть, увидеть, случаться, взять, видеть, бывать, вынуть\nТоп-20 наречий:  уже, никогда, однажды, очень, наконец, тут, где, почти, вечером, пешком, назад, уж, снова, несколько, чрезвычайно, обыкновенно, прежде, столь, скоро, поминутно\n"
     ],
     "output_type": "stream"
    }
   ],
   "source": [
    "# находим долю каждой из частей речи в тексте\n",
    "import json\n",
    "from collections import Counter\n",
    "\n",
    "with open('pymorphy_analysis.json', encoding='utf-8') as f:\n",
    "    pymorphy_analysis = json.loads(f.read())\n",
    "\n",
    "parts_of_speech = {}\n",
    "for lemma in pymorphy_analysis:\n",
    "    if lemma['part_of_speech'] not in parts_of_speech:\n",
    "        parts_of_speech[lemma['part_of_speech']] = []\n",
    "    parts_of_speech[lemma['part_of_speech']].append(lemma['lemma'])\n",
    "pos_statistics = {}\n",
    "for pos in parts_of_speech:\n",
    "    pos_statistics[pos] = len(parts_of_speech[pos])\n",
    "pos_statistics = list(pos_statistics.items())\n",
    "pos_statistics.sort(key=lambda i: i[1], reverse=True)\n",
    "print('Доля каждой части речи:')\n",
    "for pos in pos_statistics:\n",
    "    print(*pos)\n",
    "\n",
    "\n",
    "# находим топ-20 глаголов и наречий\n",
    "print()\n",
    "print('Топ-20 глаголов: ', ', '.join([word[0] for word in Counter(parts_of_speech['VERB']).most_common(20)]))\n",
    "print('Топ-20 наречий: ', ', '.join([word[0] for word in Counter(parts_of_speech['ADVB']).most_common(20)]))"
   ],
   "metadata": {
    "collapsed": false,
    "pycharm": {
     "name": "#%%\n",
     "is_executing": false
    }
   }
  }
 ],
 "metadata": {
  "kernelspec": {
   "display_name": "Python 3",
   "language": "python",
   "name": "python3"
  },
  "language_info": {
   "codemirror_mode": {
    "name": "ipython",
    "version": 2
   },
   "file_extension": ".py",
   "mimetype": "text/x-python",
   "name": "python",
   "nbconvert_exporter": "python",
   "pygments_lexer": "ipython2",
   "version": "2.7.6"
  },
  "pycharm": {
   "stem_cell": {
    "cell_type": "raw",
    "source": [],
    "metadata": {
     "collapsed": false
    }
   }
  }
 },
 "nbformat": 4,
 "nbformat_minor": 0
}