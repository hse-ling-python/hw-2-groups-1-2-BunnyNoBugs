{
 "cells": [
  {
   "cell_type": "markdown",
   "source": [
    "# Задание 2"
   ],
   "metadata": {
    "collapsed": false,
    "pycharm": {
     "name": "#%% md\n"
    }
   }
  },
  {
   "cell_type": "code",
   "execution_count": 33,
   "outputs": [],
   "source": [
    "%load_ext pycodestyle_magic\n",
    "%pycodestyle_on"
   ],
   "metadata": {
    "collapsed": false,
    "pycharm": {
     "name": "#%%\n",
     "is_executing": false
    }
   }
  },
  {
   "cell_type": "code",
   "execution_count": 7,
   "outputs": [
    {
     "name": "stdout",
     "text": [
      "Wall time: 1min 39s\n"
     ],
     "output_type": "stream"
    }
   ],
   "source": [
    "%%time\n",
    "# распарсим \"Выстрел\" и запишем в json\n",
    "from pymystem3 import Mystem\n",
    "import json\n",
    "\n",
    "with open('Выстрел.txt') as f:\n",
    "    text = f.read()\n",
    "m = Mystem()\n",
    "with open('mystem_analysis.json', 'w', encoding='utf-8') as f:\n",
    "    json.dump(m.analyze(text), f, ensure_ascii=False, indent=4)"
   ],
   "metadata": {
    "collapsed": false,
    "pycharm": {
     "name": "#%%\n",
     "is_executing": false
    }
   }
  },
  {
   "cell_type": "code",
   "execution_count": 30,
   "outputs": [
    {
     "name": "stdout",
     "text": [
      "Wall time: 678 ms\n"
     ],
     "output_type": "stream"
    }
   ],
   "source": [
    "%%time\n",
    "# токенизируем текст с помощью nltk и анализируем с помощью pymorphy\n",
    "from nltk import word_tokenize\n",
    "from pymorphy2 import MorphAnalyzer\n",
    "from string import punctuation\n",
    "import re\n",
    "\n",
    "with open('Выстрел.txt') as f:\n",
    "    text = f.read()\n",
    "    text = [x.strip(punctuation).lower() for x in word_tokenize(text) if x.isalpha()]\n",
    "\n",
    "morph = MorphAnalyzer()\n",
    "pymorphy_analysis = []\n",
    "for word in text:\n",
    "    word_analysis = {}\n",
    "    ana = morph.parse(word)\n",
    "    word_analysis['lemma'] = ana[0].normal_form\n",
    "    if re.search('(.+?),', str(ana[0].tag)):\n",
    "        word_analysis['part_of_speech'] = re.search('(.+?),', str(ana[0].tag)).group()\n",
    "    else:\n",
    "        word_analysis['part_of_speech'] = str(ana[0].tag)\n",
    "    pymorphy_analysis.append(word_analysis)\n",
    "\n",
    "with open('pymorphy_analysis.json', 'w', encoding='utf-8') as f:\n",
    "    json.dump(pymorphy_analysis, f, ensure_ascii=False, indent=4)"
   ],
   "metadata": {
    "collapsed": false,
    "pycharm": {
     "name": "#%%\n",
     "is_executing": false
    }
   }
  }
 ],
 "metadata": {
  "kernelspec": {
   "display_name": "Python 3",
   "language": "python",
   "name": "python3"
  },
  "language_info": {
   "codemirror_mode": {
    "name": "ipython",
    "version": 2
   },
   "file_extension": ".py",
   "mimetype": "text/x-python",
   "name": "python",
   "nbconvert_exporter": "python",
   "pygments_lexer": "ipython2",
   "version": "2.7.6"
  },
  "pycharm": {
   "stem_cell": {
    "cell_type": "raw",
    "source": [],
    "metadata": {
     "collapsed": false
    }
   }
  }
 },
 "nbformat": 4,
 "nbformat_minor": 0
}